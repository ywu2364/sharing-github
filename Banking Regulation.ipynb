{
 "cells": [
  {
   "cell_type": "code",
   "execution_count": 38,
   "metadata": {},
   "outputs": [],
   "source": [
    "import pandas as pd\n",
    "import numpy as np\n",
    "import math\n",
    "import numpy as np\n",
    "from scipy.stats import norm\n",
    "%matplotlib inline\n",
    "\n"
   ]
  },
  {
   "cell_type": "code",
   "execution_count": 39,
   "metadata": {},
   "outputs": [
    {
     "data": {
      "text/html": [
       "<div>\n",
       "<style scoped>\n",
       "    .dataframe tbody tr th:only-of-type {\n",
       "        vertical-align: middle;\n",
       "    }\n",
       "\n",
       "    .dataframe tbody tr th {\n",
       "        vertical-align: top;\n",
       "    }\n",
       "\n",
       "    .dataframe thead th {\n",
       "        text-align: right;\n",
       "    }\n",
       "</style>\n",
       "<table border=\"1\" class=\"dataframe\">\n",
       "  <thead>\n",
       "    <tr style=\"text-align: right;\">\n",
       "      <th></th>\n",
       "      <th>id</th>\n",
       "      <th>PurchasePrice</th>\n",
       "      <th>CurrentCoupon</th>\n",
       "      <th>CouponsRemaining</th>\n",
       "      <th>Time2Maturity</th>\n",
       "      <th>BondsHeld</th>\n",
       "      <th>YearlyRate</th>\n",
       "      <th>Principal</th>\n",
       "      <th>PD</th>\n",
       "    </tr>\n",
       "  </thead>\n",
       "  <tbody>\n",
       "    <tr>\n",
       "      <th>0</th>\n",
       "      <td>1</td>\n",
       "      <td>92.489</td>\n",
       "      <td>7</td>\n",
       "      <td>73</td>\n",
       "      <td>29.310559</td>\n",
       "      <td>26000</td>\n",
       "      <td>1.00</td>\n",
       "      <td>157</td>\n",
       "      <td>0.021476</td>\n",
       "    </tr>\n",
       "    <tr>\n",
       "      <th>1</th>\n",
       "      <td>2</td>\n",
       "      <td>101.676</td>\n",
       "      <td>2</td>\n",
       "      <td>13</td>\n",
       "      <td>2.272379</td>\n",
       "      <td>5000</td>\n",
       "      <td>0.98</td>\n",
       "      <td>101</td>\n",
       "      <td>0.183483</td>\n",
       "    </tr>\n",
       "    <tr>\n",
       "      <th>2</th>\n",
       "      <td>3</td>\n",
       "      <td>107.328</td>\n",
       "      <td>6</td>\n",
       "      <td>76</td>\n",
       "      <td>5.663777</td>\n",
       "      <td>100000</td>\n",
       "      <td>2.81</td>\n",
       "      <td>105</td>\n",
       "      <td>0.006481</td>\n",
       "    </tr>\n",
       "    <tr>\n",
       "      <th>3</th>\n",
       "      <td>4</td>\n",
       "      <td>127.260</td>\n",
       "      <td>6</td>\n",
       "      <td>74</td>\n",
       "      <td>25.764823</td>\n",
       "      <td>21000</td>\n",
       "      <td>0.87</td>\n",
       "      <td>179</td>\n",
       "      <td>0.672002</td>\n",
       "    </tr>\n",
       "    <tr>\n",
       "      <th>4</th>\n",
       "      <td>5</td>\n",
       "      <td>95.201</td>\n",
       "      <td>5</td>\n",
       "      <td>60</td>\n",
       "      <td>9.176237</td>\n",
       "      <td>5000001</td>\n",
       "      <td>0.77</td>\n",
       "      <td>97</td>\n",
       "      <td>0.351326</td>\n",
       "    </tr>\n",
       "  </tbody>\n",
       "</table>\n",
       "</div>"
      ],
      "text/plain": [
       "   id  PurchasePrice  CurrentCoupon  CouponsRemaining  Time2Maturity  \\\n",
       "0   1         92.489              7                73      29.310559   \n",
       "1   2        101.676              2                13       2.272379   \n",
       "2   3        107.328              6                76       5.663777   \n",
       "3   4        127.260              6                74      25.764823   \n",
       "4   5         95.201              5                60       9.176237   \n",
       "\n",
       "   BondsHeld  YearlyRate  Principal        PD  \n",
       "0      26000        1.00        157  0.021476  \n",
       "1       5000        0.98        101  0.183483  \n",
       "2     100000        2.81        105  0.006481  \n",
       "3      21000        0.87        179  0.672002  \n",
       "4    5000001        0.77         97  0.351326  "
      ]
     },
     "execution_count": 39,
     "metadata": {},
     "output_type": "execute_result"
    }
   ],
   "source": [
    "mydata = pd.read_excel(\"Dataset.xlsx\")\n",
    "mydata.head()"
   ]
  },
  {
   "cell_type": "code",
   "execution_count": 146,
   "metadata": {
    "scrolled": true
   },
   "outputs": [
    {
     "name": "stderr",
     "output_type": "stream",
     "text": [
      "C:\\Users\\Yitia\\Anaconda3\\lib\\site-packages\\ipykernel_launcher.py:17: RuntimeWarning: divide by zero encountered in double_scalars\n",
      "C:\\Users\\Yitia\\Anaconda3\\lib\\site-packages\\ipykernel_launcher.py:29: RuntimeWarning: invalid value encountered in double_scalars\n"
     ]
    }
   ],
   "source": [
    "#Q1 part a\n",
    "\n",
    "# market interest rate\n",
    "\n",
    "rate1_to_3 = 0.0146\n",
    "rate3_to_5 = 0.0132\n",
    "rate5_to_10 = 0.0128\n",
    "rate_over_10 = 0.0144\n",
    "\n",
    "# parameters\n",
    "n = np.shape(mydata)[0]\n",
    "current_price = np.zeros(np.shape(mydata)[0])\n",
    "\n",
    "for i in range(n):\n",
    "    X = mydata.Principal[i]/100\n",
    "    num = math.floor((mydata.CouponsRemaining[i])/mydata.Time2Maturity[i])\n",
    "    C = X * (mydata.YearlyRate[i]/100) / num\n",
    "    r = 0\n",
    "    if mydata.Time2Maturity[i] < 3:\n",
    "        r = rate1_to_3\n",
    "    elif (mydata.Time2Maturity[i] >= 3 and mydata.Time2Maturity[i]) < 5:\n",
    "        r = rate3_to_5\n",
    "    elif (mydata.Time2Maturity[i] >= 5 and mydata.Time2Maturity[i]) < 10:\n",
    "        r = rate5_to_10\n",
    "    else:\n",
    "        r = rate_over_10\n",
    "    # payment sequence\n",
    "    payment_series = np.repeat(C, mydata.CouponsRemaining[i] + 1)\n",
    "    payment_series[0] -= C\n",
    "    payment_series[mydata.CouponsRemaining[i]] += X\n",
    "    \n",
    "    # PV calculation\n",
    "    current_price[i] = np.npv(r, payment_series) #* mydata.BondsHeld[i]\n",
    "\n",
    "    \n"
   ]
  },
  {
   "cell_type": "code",
   "execution_count": 147,
   "metadata": {},
   "outputs": [
    {
     "data": {
      "text/plain": [
       "array([0.90604186, 0.85982893, 0.50925212, ..., 0.58770667, 0.85544744,\n",
       "       0.53823144])"
      ]
     },
     "execution_count": 147,
     "metadata": {},
     "output_type": "execute_result"
    }
   ],
   "source": [
    "mydata['PresentPrice'] = current_price\n",
    "current_price"
   ]
  },
  {
   "cell_type": "code",
   "execution_count": 7,
   "metadata": {},
   "outputs": [
    {
     "data": {
      "text/html": [
       "<div>\n",
       "<style scoped>\n",
       "    .dataframe tbody tr th:only-of-type {\n",
       "        vertical-align: middle;\n",
       "    }\n",
       "\n",
       "    .dataframe tbody tr th {\n",
       "        vertical-align: top;\n",
       "    }\n",
       "\n",
       "    .dataframe thead th {\n",
       "        text-align: right;\n",
       "    }\n",
       "</style>\n",
       "<table border=\"1\" class=\"dataframe\">\n",
       "  <thead>\n",
       "    <tr style=\"text-align: right;\">\n",
       "      <th></th>\n",
       "      <th>ID</th>\n",
       "      <th>OriginalAmount</th>\n",
       "      <th>Term</th>\n",
       "      <th>YearlyInterestRate</th>\n",
       "      <th>CurrentInstallment</th>\n",
       "      <th>PD</th>\n",
       "    </tr>\n",
       "  </thead>\n",
       "  <tbody>\n",
       "    <tr>\n",
       "      <th>0</th>\n",
       "      <td>1</td>\n",
       "      <td>8305</td>\n",
       "      <td>23</td>\n",
       "      <td>0.19</td>\n",
       "      <td>6</td>\n",
       "      <td>0.862347</td>\n",
       "    </tr>\n",
       "    <tr>\n",
       "      <th>1</th>\n",
       "      <td>2</td>\n",
       "      <td>3380</td>\n",
       "      <td>22</td>\n",
       "      <td>0.26</td>\n",
       "      <td>10</td>\n",
       "      <td>0.003640</td>\n",
       "    </tr>\n",
       "    <tr>\n",
       "      <th>2</th>\n",
       "      <td>3</td>\n",
       "      <td>6955</td>\n",
       "      <td>35</td>\n",
       "      <td>0.29</td>\n",
       "      <td>17</td>\n",
       "      <td>0.122260</td>\n",
       "    </tr>\n",
       "    <tr>\n",
       "      <th>3</th>\n",
       "      <td>4</td>\n",
       "      <td>13443</td>\n",
       "      <td>23</td>\n",
       "      <td>0.10</td>\n",
       "      <td>14</td>\n",
       "      <td>0.839879</td>\n",
       "    </tr>\n",
       "    <tr>\n",
       "      <th>4</th>\n",
       "      <td>5</td>\n",
       "      <td>4037</td>\n",
       "      <td>22</td>\n",
       "      <td>0.15</td>\n",
       "      <td>9</td>\n",
       "      <td>0.010284</td>\n",
       "    </tr>\n",
       "  </tbody>\n",
       "</table>\n",
       "</div>"
      ],
      "text/plain": [
       "   ID  OriginalAmount  Term  YearlyInterestRate  CurrentInstallment        PD\n",
       "0   1            8305    23                0.19                   6  0.862347\n",
       "1   2            3380    22                0.26                  10  0.003640\n",
       "2   3            6955    35                0.29                  17  0.122260\n",
       "3   4           13443    23                0.10                  14  0.839879\n",
       "4   5            4037    22                0.15                   9  0.010284"
      ]
     },
     "execution_count": 7,
     "metadata": {},
     "output_type": "execute_result"
    }
   ],
   "source": [
    "xls = pd.ExcelFile('Dataset.xlsx')\n",
    "bond = pd.read_excel(xls, 'Bond')\n",
    "mortgage = pd.read_excel(xls, 'Mortgage')\n",
    "loan = pd.read_excel(xls, 'RetailLoan')\n",
    "\n",
    "loan.head()"
   ]
  },
  {
   "cell_type": "code",
   "execution_count": 165,
   "metadata": {},
   "outputs": [],
   "source": [
    "# part b\n",
    "\n",
    "#total captital requirement\n",
    "# for retail\n",
    "def capital_requirement_retail(PD):\n",
    "    # floor\n",
    "    if (PD < 0.0003):\n",
    "        PD = 0.0003\n",
    "    R =  0.03 * ( (1 - np.exp(-35 * PD)) / (1 - np.exp(-35)) ) \n",
    "    R += 0.16 * (1 - ( (1 - np.exp(-35 * PD)) / (1 - np.exp(-35)) ) )\n",
    "    K = norm.cdf(np.sqrt( (1 - R) ** (-1) ) * norm.ppf(PD) + \n",
    "               np.sqrt( R / (1 - R) ) * norm.ppf(0.999) ) - PD\n",
    "    K *= 1\n",
    "    return(K) \n",
    "\n",
    "\n",
    "def capital_requirement_mortgage(PD, LGD):\n",
    "    # floor\n",
    "    if (PD < 0.0003):\n",
    "        PD = 0.0003\n",
    "    if (LGD < 0.1):\n",
    "        LGD = 0.1\n",
    "    R = 0.15\n",
    "    K = norm.cdf(np.sqrt( (1 - R) ** (-1) ) * norm.ppf(PD) + \n",
    "               np.sqrt( R / (1 - R) ) * norm.ppf(0.999) ) - PD\n",
    "    K *= LGD\n",
    "    return K\n",
    "\n",
    "\n"
   ]
  },
  {
   "cell_type": "code",
   "execution_count": 149,
   "metadata": {},
   "outputs": [
    {
     "name": "stderr",
     "output_type": "stream",
     "text": [
      "C:\\Users\\Yitia\\Anaconda3\\lib\\site-packages\\ipykernel_launcher.py:14: RuntimeWarning: divide by zero encountered in double_scalars\n",
      "  \n",
      "C:\\Users\\Yitia\\Anaconda3\\lib\\site-packages\\ipykernel_launcher.py:21: RuntimeWarning: invalid value encountered in double_scalars\n",
      "C:\\Users\\Yitia\\Anaconda3\\lib\\site-packages\\ipykernel_launcher.py:21: RuntimeWarning: invalid value encountered in multiply\n",
      "C:\\Users\\Yitia\\Anaconda3\\lib\\site-packages\\ipykernel_launcher.py:23: RuntimeWarning: divide by zero encountered in log\n",
      "C:\\Users\\Yitia\\Anaconda3\\lib\\site-packages\\ipykernel_launcher.py:25: RuntimeWarning: invalid value encountered in double_scalars\n"
     ]
    }
   ],
   "source": [
    "len_bond = len(bond)\n",
    "lgd_bond = np.zeros(len_bond)\n",
    "for i in range(len_bond):\n",
    "    if (bond.PD[i] < 3.6): \n",
    "        lgd_bond[i] = 0.45\n",
    "    else:\n",
    "        lgd_bond[i] = 0.75\n",
    "\n",
    "K = 0\n",
    "#cap = np.zeros(len_bond)\n",
    "for i in range(len_bond):\n",
    "    X = mydata.Principal[i]/100\n",
    "    num = math.floor((mydata.CouponsRemaining[i])/mydata.Time2Maturity[i])\n",
    "    C = X * (mydata.YearlyRate[i]/100) / num\n",
    "    M = 0\n",
    "    for j in range(bond.CouponsRemaining[i] - 1):\n",
    "        if num != 0:\n",
    "            M += C*(12/num)*(j+1)\n",
    "        else:\n",
    "            M = 0\n",
    "    M = (M + (C + bond.Principal[i]))/(bond.CouponsRemaining[i]*C + bond.Principal[i])\n",
    "    R = 0.12*((1-np.exp(-50*bond.PD[i]))/(1-np.exp(-50))) + 0.24*(1 - (1-np.exp(-50*bond.PD[i]))/(1-np.exp(-50)))\n",
    "    b = (0.11852 - 0.05478 * np.log(bond.PD[i]))**2\n",
    "    l = (norm.cdf(np.sqrt( (1 - R) ** (-1) ) * norm.ppf(bond.PD[i]) + \n",
    "               np.sqrt( R / (1 - R) ) * norm.ppf(0.999) ) - bond.PD[i]) * ((1+(M +2.5)*b)/(1-1.5*b))*lgd_bond[i]\n",
    "    if not(math.isnan(l)):\n",
    "        #l = np.median(cap)\n",
    "        K += l\n",
    "    #cap[i] = l\n",
    "\n",
    "    \n",
    "    "
   ]
  },
  {
   "cell_type": "code",
   "execution_count": 150,
   "metadata": {},
   "outputs": [
    {
     "name": "stdout",
     "output_type": "stream",
     "text": [
      "total capital requirement for bond is:24990.94424242525\n"
     ]
    }
   ],
   "source": [
    "\n",
    "print(f\"total capital requirement for bond is:{K}\")"
   ]
  },
  {
   "cell_type": "code",
   "execution_count": 151,
   "metadata": {},
   "outputs": [
    {
     "name": "stdout",
     "output_type": "stream",
     "text": [
      "total capital requirement for mortgage is:3704.244407895515\n",
      "total capital requirement for loan is:2725.8263040521633\n"
     ]
    }
   ],
   "source": [
    "\n",
    "len_mortgage = len(mortgage)\n",
    "cap_mortgage = 0\n",
    "for i in range(len_mortgage):\n",
    "    cap_mortgage += capital_requirement_mortgage(mortgage.PD[i], mortgage.LGD[i])\n",
    "\n",
    "\n",
    "    \n",
    "len_loan = len(loan)\n",
    "cap_loan = 0\n",
    "for i in range(len_loan):\n",
    "    cap_loan += capital_requirement_retail(loan.PD[i])\n",
    "    #pro_loan += loan.PD[i] * 1 * (loan.OriginAmount[i] - 12*Origin.Term)\n",
    "   \n",
    "\n",
    "\n",
    "print(f\"total capital requirement for mortgage is:{cap_mortgage}\")\n",
    "print(f\"total capital requirement for loan is:{cap_loan}\")\n",
    "\n"
   ]
  },
  {
   "cell_type": "code",
   "execution_count": 152,
   "metadata": {},
   "outputs": [],
   "source": [
    "# monthly payment for motgage and loan\n",
    "\n",
    "monthly_mor = np.zeros(len_mortgage)\n",
    "\n",
    "for i in range(len_mortgage):\n",
    "    monthly_mor[i] = np.pmt(mortgage.Rate[i]/12, 12*mortgage.TermYears[i], mortgage.OriginalAmount[i])\n",
    "    \n",
    "# calculate the unpaid principal(EAD) for mortgage\n",
    "EAD_mort = np.zeros(len_mortgage)\n",
    "\n",
    "for i in range(len_mortgage):\n",
    "    unpaid_principal = mortgage.OriginalAmount[i]\n",
    "    for j in range(mortgage.CurrentInstallment[i]):\n",
    "        unpaid_principal = unpaid_principal - monthly_mor[i] + unpaid_principal*mortgage.Rate[i]/12\n",
    "    EAD_mort[i] = unpaid_principal - mortgage.Collateral_valuation[i]\n",
    "    \n",
    "    \n",
    "monthly_lo = np.zeros(len_loan)\n",
    "\n",
    "for i in range(len_loan):\n",
    "    monthly_lo[i] = np.pmt(loan.YearlyInterestRate[i]/12, 12*loan.Term[i], loan.OriginalAmount[i])\n",
    "    \n",
    "# calculate the unpaid principal(EAD) for loan\n",
    "EAD_loan = np.zeros(len_loan)\n",
    "\n",
    "for i in range(len_loan):\n",
    "    unpaid_principal = loan.OriginalAmount[i]\n",
    "    for j in range(loan.CurrentInstallment[i]):\n",
    "        unpaid_principal = unpaid_principal - monthly_lo[i] + unpaid_principal*loan.YearlyInterestRate[i]/12\n",
    "    EAD_loan[i] = unpaid_principal\n",
    "    "
   ]
  },
  {
   "cell_type": "code",
   "execution_count": 166,
   "metadata": {},
   "outputs": [
    {
     "name": "stderr",
     "output_type": "stream",
     "text": [
      "C:\\Users\\Yitia\\Anaconda3\\lib\\site-packages\\ipykernel_launcher.py:8: SettingWithCopyWarning: \n",
      "A value is trying to be set on a copy of a slice from a DataFrame\n",
      "\n",
      "See the caveats in the documentation: http://pandas.pydata.org/pandas-docs/stable/indexing.html#indexing-view-versus-copy\n",
      "  \n",
      "C:\\Users\\Yitia\\Anaconda3\\lib\\site-packages\\ipykernel_launcher.py:6: SettingWithCopyWarning: \n",
      "A value is trying to be set on a copy of a slice from a DataFrame\n",
      "\n",
      "See the caveats in the documentation: http://pandas.pydata.org/pandas-docs/stable/indexing.html#indexing-view-versus-copy\n",
      "  \n",
      "C:\\Users\\Yitia\\Anaconda3\\lib\\site-packages\\ipykernel_launcher.py:16: SettingWithCopyWarning: \n",
      "A value is trying to be set on a copy of a slice from a DataFrame\n",
      "\n",
      "See the caveats in the documentation: http://pandas.pydata.org/pandas-docs/stable/indexing.html#indexing-view-versus-copy\n",
      "  app.launch_new_instance()\n"
     ]
    },
    {
     "name": "stdout",
     "output_type": "stream",
     "text": [
      "The total provision for bonds is:3285486948.220779\n",
      "The total provision for mortgage is:51993767436.4706\n",
      "The total provision for loan is: 51993767436.4706\n"
     ]
    }
   ],
   "source": [
    "#total provision\n",
    "# total provision for motgage\n",
    "provision_mort = 0\n",
    "for i in range(len_mortgage):\n",
    "    if mortgage.PD[i] < 0.003:\n",
    "        mortgage.PD[i] = 0.003\n",
    "    if mortgage.LGD[i] < 0.1:\n",
    "        mortgage.LGD[i] = 0.1\n",
    "    provision_mort += EAD_mort[i] * mortgage.PD[i] * mortgage.LGD[i]\n",
    " \n",
    "\n",
    "# total provision for loan\n",
    "provision_loan = 0\n",
    "for i in range(len_loan):\n",
    "    if loan.PD[i] < 0.003:\n",
    "        loan.PD[i] = 0.003\n",
    "    provision_loan += EAD_loan[i] * loan.PD[i]\n",
    "\n",
    "\n",
    "# total provsion for bond\n",
    "provision_bond = 0\n",
    "for i in range(len_bond):\n",
    "    l = mydata.PresentPrice[i]*mydata.BondsHeld[i] * 0.45 * mydata.PD[i]\n",
    "    if not(math.isnan(l)):\n",
    "        provision_bond += l\n",
    "    \n",
    "    \n",
    "print(f\"The total provision for bonds is:{provision_bond}\")\n",
    "print(f\"The total provision for mortgage is:{provision_mort}\")\n",
    "print(f\"The total provision for loan is: {provision_mort}\")\n",
    "      \n",
    "    \n",
    "    \n",
    "    \n",
    "\n",
    "    \n",
    "    \n",
    "    "
   ]
  },
  {
   "cell_type": "code",
   "execution_count": 158,
   "metadata": {},
   "outputs": [],
   "source": [
    "# part c\n",
    "# bond\n",
    "RWA_bond = 0\n",
    "for i in range(len_bond):\n",
    "    n = bond.PD[i]\n",
    "    P = mydata.PresentPrice[i] * mydata.BondsHeld[i]\n",
    "    if not(math.isnan(P)):\n",
    "        if (n < 0.01):\n",
    "            RWA_bond += 0.2 * P\n",
    "        elif (n >= 0.01 and n < 0.12):\n",
    "            RWA_bond += 0.5 * P\n",
    "        elif (n >= 0.12 and n < 0.36):\n",
    "            RWA_bond += 1 * P\n",
    "        else:\n",
    "            RWA_bond += 1.5 * P\n",
    "\n"
   ]
  },
  {
   "cell_type": "code",
   "execution_count": 159,
   "metadata": {},
   "outputs": [
    {
     "data": {
      "text/plain": [
       "24267838427.75117"
      ]
     },
     "execution_count": 159,
     "metadata": {},
     "output_type": "execute_result"
    }
   ],
   "source": [
    "RWA_bond"
   ]
  },
  {
   "cell_type": "code",
   "execution_count": 160,
   "metadata": {},
   "outputs": [
    {
     "data": {
      "text/plain": [
       "138231801567.4811"
      ]
     },
     "execution_count": 160,
     "metadata": {},
     "output_type": "execute_result"
    }
   ],
   "source": [
    "#mortgage\n",
    "RWA_mortgage = 0\n",
    "for i in range(len_mortgage):\n",
    "    RWA_mortgage += 0.35 * EAD_mort[i]\n",
    "    \n",
    "    \n",
    "RWA_mortgage"
   ]
  },
  {
   "cell_type": "code",
   "execution_count": 161,
   "metadata": {},
   "outputs": [
    {
     "data": {
      "text/plain": [
       "211059462.14277735"
      ]
     },
     "execution_count": 161,
     "metadata": {},
     "output_type": "execute_result"
    }
   ],
   "source": [
    "# loan\n",
    "RWA_loan = 0\n",
    "for i in range(len_loan):\n",
    "    RWA_loan += 0.75 * EAD_loan[i]\n",
    "    \n",
    "RWA_loan"
   ]
  },
  {
   "cell_type": "code",
   "execution_count": 162,
   "metadata": {},
   "outputs": [
    {
     "name": "stdout",
     "output_type": "stream",
     "text": [
      "the total risk-weighted assets of the bank is:162710699457.37506\n"
     ]
    }
   ],
   "source": [
    "RWA = RWA_bond + RWA_mortgage + RWA_loan\n",
    "print(f\"the total risk-weighted assets of the bank is:{RWA}\")"
   ]
  },
  {
   "cell_type": "code",
   "execution_count": 163,
   "metadata": {},
   "outputs": [
    {
     "name": "stdout",
     "output_type": "stream",
     "text": [
      "the risk adequacy capital of this bank is:18711730437.598133\n"
     ]
    }
   ],
   "source": [
    "cap_ad_requiremnet = RWA * 0.115\n",
    "print(f\"the risk adequacy capital of this bank is:{cap_ad_requiremnet}\")"
   ]
  }
 ],
 "metadata": {
  "kernelspec": {
   "display_name": "Python 3",
   "language": "python",
   "name": "python3"
  },
  "language_info": {
   "codemirror_mode": {
    "name": "ipython",
    "version": 3
   },
   "file_extension": ".py",
   "mimetype": "text/x-python",
   "name": "python",
   "nbconvert_exporter": "python",
   "pygments_lexer": "ipython3",
   "version": "3.7.3"
  }
 },
 "nbformat": 4,
 "nbformat_minor": 2
}
